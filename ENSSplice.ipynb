{
  "cells": [
    {
      "cell_type": "code",
      "execution_count": null,
      "metadata": {
        "colab": {
          "base_uri": "https://localhost:8080/"
        },
        "id": "YpM8xUzjYht_",
        "outputId": "336591c6-ec57-4379-c19d-4c7de918194f"
      },
      "outputs": [
        {
          "name": "stdout",
          "output_type": "stream",
          "text": [
            "Mounted at /content/drive\n"
          ]
        }
      ],
      "source": [
        "from google.colab import drive\n",
        "drive.mount('/content/drive')"
      ]
    },
    {
      "cell_type": "code",
      "execution_count": null,
      "metadata": {
        "id": "5uqP5QJZYjsv"
      },
      "outputs": [],
      "source": [
        "# RUN ONCE\n",
        "#%cp -rf ../ENSDatasets ./\n",
        "#!unzip Datasets.zip"
      ]
    },
    {
      "cell_type": "code",
      "execution_count": null,
      "metadata": {
        "id": "ezwkLgJl-GrE"
      },
      "outputs": [],
      "source": [
        "!pip install matplotlib --upgrade\n",
        "!pip install keras-tuner"
      ]
    },
    {
      "cell_type": "code",
      "execution_count": null,
      "metadata": {
        "colab": {
          "base_uri": "https://localhost:8080/"
        },
        "id": "Tdu8cl5JTC2P",
        "outputId": "9e968ebf-e880-4fe0-b26a-e13ba0e00a20"
      },
      "outputs": [
        {
          "name": "stdout",
          "output_type": "stream",
          "text": [
            "/content/drive/My Drive/NewEnsembleSplice\n"
          ]
        }
      ],
      "source": [
        "%cd './drive/My Drive/NewEnsembleSplice'"
      ]
    },
    {
      "cell_type": "code",
      "execution_count": null,
      "metadata": {
        "colab": {
          "base_uri": "https://localhost:8080/",
          "height": 36
        },
        "id": "5aihUu1Z-m3-",
        "outputId": "43c741bb-fe1d-40e0-d832-6713005a34af"
      },
      "outputs": [
        {
          "data": {
            "application/vnd.google.colaboratory.intrinsic+json": {
              "type": "string"
            },
            "text/plain": [
              "'3.5.2'"
            ]
          },
          "execution_count": 2,
          "metadata": {},
          "output_type": "execute_result"
        }
      ],
      "source": [
        "import matplotlib\n",
        "import keras_tuner\n",
        "matplotlib.__version__\n",
        "#keras_tuner.__version__"
      ]
    },
    {
      "cell_type": "code",
      "execution_count": null,
      "metadata": {
        "colab": {
          "background_save": true,
          "base_uri": "https://localhost:8080/"
        },
        "id": "Pxoc-s6Vkaxk",
        "outputId": "8d5086eb-ecf3-4e0b-de7b-5fb7549b8f77"
      },
      "outputs": [
        {
          "name": "stdout",
          "output_type": "stream",
          "text": [
            "Traceback (most recent call last):\n",
            "  File \"exec.py\", line 5, in <module>\n",
            "    from Models import ensemblesplice\n",
            "ImportError: cannot import name 'ensemblesplice' from 'Models' (unknown location)\n"
          ]
        }
      ],
      "source": [
        "!python3 exec.py --test --donor --dnn1 --dnn2 --hs3d --esplice"
      ]
    },
    {
      "cell_type": "code",
      "execution_count": null,
      "metadata": {
        "id": "SOasHWjJ-sKN"
      },
      "outputs": [],
      "source": [
        "# Test\n",
        "# !python3 exec.py --validate --donor --dnn1 --nn269 --k 3 --esplice"
      ]
    },
    {
      "cell_type": "code",
      "execution_count": null,
      "metadata": {
        "id": "sYdhhY2A4fDn"
      },
      "outputs": [],
      "source": [
        "# ENS1 - TEST\n",
        "# [] !python3 exec.py --validate --donor --dnn1 --dnn2 --dnn3 --hs3d --k 5 --esplice \n",
        "# [] !python3 exec.py --validate --accceptor --dnn1 --dnn2 --dnn3 --hs3d --k 5 --esplice \n",
        "# [] !python3 exec.py --validate --donor --dnn1 --dnn2 --dnn3 --hs2 --k 5 --esplice \n",
        "# [] !python3 exec.py --validate --accceptor --dnn1 --dnn2 --dnn3 --hs2 --k 5 --esplice \n",
        "# [] !python3 exec.py --validate --donor --dnn1 --dnn2 --dnn3 --ar --k 5 --esplice \n",
        "# [] !python3 exec.py --validate --accceptor --dnn1 --dnn2 --dnn3 --ar--k 5 --esplice \n",
        "\n",
        "# ENS2 - TEST\n",
        "# [] !python3 exec.py --validate --donor --cnn1 --cnn2 --cnn3 --hs3d --k 5 --esplice \n",
        "# [] !python3 exec.py --validate --accceptor --cnn1 --cnn2 --cnn3 --hs3d --k 5 --esplice \n",
        "# [] !python3 exec.py --validate --donor --cnn1 --cnn2 --cnn3 --hs2 --k 5 --esplice \n",
        "# [] !python3 exec.py --validate --accceptor --cnn1 --cnn2 --cnn3 --hs2 --k 5 --esplice \n",
        "# [] !python3 exec.py --validate --donor --cnn1 --cnn2 --cnn3 --ar --k 5 --esplice \n",
        "# [] !python3 exec.py --validate --accceptor --cnn1 --cnn2 --cnn3 --ar--k 5 --esplice \n",
        "\n",
        "\n",
        "\n",
        "# ENS1 DNN1-4\n",
        "# ENS2 CNN1-4 \n",
        "# ENS3 ALL Models \n",
        "# ENS4 Worst Removed \n",
        "# 3 Unevenbest CNNS, Best 2 DNNS\n",
        "# 3 Unevenbest DNNS, Best 2 DNNS\n",
        "# 4 Unevenbest CNNS, Best 2 DNNS\n",
        "# 4 Unevenbest DNNS, Best 2 DNNS\n"
      ]
    },
    {
      "cell_type": "code",
      "execution_count": null,
      "metadata": {
        "colab": {
          "background_save": true
        },
        "id": "GpiF2K0rYnkw"
      },
      "outputs": [],
      "source": [
        "!python3 exec.py --validate --donor --dnn1 --dnn2 --dnn3 --dnn4 --hs3d --k 5 --esplice "
      ]
    },
    {
      "cell_type": "code",
      "execution_count": null,
      "metadata": {
        "id": "2H_F18n84eWY"
      },
      "outputs": [],
      "source": [
        ""
      ]
    }
  ],
  "metadata": {
    "accelerator": "GPU",
    "colab": {
      "name": "ENSSplice.ipynb",
      "provenance": []
    },
    "kernelspec": {
      "display_name": "Python 3",
      "name": "python3"
    },
    "language_info": {
      "name": "python"
    }
  },
  "nbformat": 4,
  "nbformat_minor": 0
}